{
 "cells": [
  {
   "cell_type": "code",
   "execution_count": 24,
   "metadata": {},
   "outputs": [
    {
     "name": "stdout",
     "output_type": "stream",
     "text": [
      "2.2.0-dlenv\n"
     ]
    },
    {
     "data": {
      "text/plain": [
       "''"
      ]
     },
     "execution_count": 24,
     "metadata": {},
     "output_type": "execute_result"
    }
   ],
   "source": [
    "import tensorflow as tf\n",
    "import os\n",
    "import random\n",
    "import shutil\n",
    "from shutil import copyfile\n",
    "import tensorflow.keras.regularizers\n",
    "from tensorflow.keras.models import Sequential\n",
    "from tensorflow.keras.preprocessing.image import ImageDataGenerator\n",
    "from tensorflow.keras.applications.mobilenet_v2 import MobileNetV2\n",
    "from tensorflow.keras.layers import Dense, Dropout, Activation, Flatten, GlobalAveragePooling2D, Conv2D, MaxPooling2D\n",
    "from tensorflow.keras.optimizers import Adam, RMSprop\n",
    "\n",
    "print(tf.__version__)\n",
    "tf.test.gpu_device_name()"
   ]
  },
  {
   "cell_type": "code",
   "execution_count": 2,
   "metadata": {},
   "outputs": [],
   "source": [
    "try:\n",
    "    #YOUR CODE GOES HERE\n",
    "    main_dir = \"/home/kagmeth/face-mask-prj/datasets\"\n",
    "    \n",
    "    train_dir = os.path.join(main_dir, \"training\")\n",
    "    test_dir = os.path.join(main_dir, \"testing\")\n",
    "    \n",
    "    MASK_train = os.path.join(train_dir, \"mask\")\n",
    "    NOMASK_train = os.path.join(train_dir, \"nomask\")\n",
    "    \n",
    "    MASK_test = os.path.join(test_dir, \"mask\")\n",
    "    NOMASK_test = os.path.join(test_dir, \"nomask\")\n",
    "    \n",
    "#     os.mkdir(main_dir)\n",
    "    \n",
    "#     os.mkdir(train_dir)\n",
    "#     os.mkdir(test_dir)\n",
    "    \n",
    "#     os.mkdir(cats_train)\n",
    "#     os.mkdir(dogs_train)\n",
    "    \n",
    "#     os.mkdir(cats_test)\n",
    "#     os.mkdir(dogs_test)\n",
    "    \n",
    "except OSError:\n",
    "    print(\"Error\")\n",
    "    pass"
   ]
  },
  {
   "cell_type": "code",
   "execution_count": 21,
   "metadata": {},
   "outputs": [],
   "source": [
    "def split_data(SOURCE, TRAINING, TESTING, SPLIT_SIZE):\n",
    "    data = os.listdir(SOURCE)\n",
    "    data = random.sample(data, len(data)) # shuffled\n",
    "    for count, file in enumerate(data):\n",
    "        if(count < SPLIT_SIZE * len(data)) and os.path.getsize(f\"{SOURCE}/{file}\")!=0:\n",
    "            copyfile(f\"{SOURCE}/{file}\", f\"{TRAINING}/{file}\")\n",
    "        elif (count >= SPLIT_SIZE * len(data)) and os.path.getsize(f\"{SOURCE}/{file}\")!=0:\n",
    "            copyfile(f\"{SOURCE}/{file}\", f\"{TESTING}/{file}\")\n",
    "\n",
    "MASK_SOURCE_DIR = \"/home/kagmeth/face-mask-prj/dataset/with_mask\"\n",
    "TRAINING_MASK_DIR = \"/home/kagmeth/face-mask-prj/datasets/training/mask\"\n",
    "TESTING_MASK_DIR = \"/home/kagmeth/face-mask-prj/datasets/testing/mask\"\n",
    "NOMASK_SOURCE_DIR = \"/home/kagmeth/face-mask-prj/dataset/without_mask\"\n",
    "TRAINING_NOMASK_DIR = \"/home/kagmeth/face-mask-prj/datasets/training/nomask\"\n",
    "TESTING_NOMASK_DIR = \"/home/kagmeth/face-mask-prj/datasets/testing/nomask\"\n",
    "\n",
    "split_size = .8\n",
    "split_data(MASK_SOURCE_DIR, TRAINING_MASK_DIR, TESTING_MASK_DIR, split_size)\n",
    "split_data(NOMASK_SOURCE_DIR, TRAINING_NOMASK_DIR, TESTING_NOMASK_DIR, split_size)"
   ]
  },
  {
   "cell_type": "code",
   "execution_count": 3,
   "metadata": {},
   "outputs": [
    {
     "name": "stdout",
     "output_type": "stream",
     "text": [
      "1533\n",
      "383\n",
      "1544\n",
      "386\n"
     ]
    }
   ],
   "source": [
    "print(len(os.listdir('/home/kagmeth/face-mask-prj/datasets/training/mask')))\n",
    "print(len(os.listdir('/home/kagmeth/face-mask-prj/datasets/testing/mask')))\n",
    "print(len(os.listdir('/home/kagmeth/face-mask-prj/datasets/training/nomask')))\n",
    "print(len(os.listdir('/home/kagmeth/face-mask-prj/datasets/testing/nomask')))\n",
    "\n",
    "# Expected output:\n",
    "# 1533\n",
    "# 383\n",
    "# 1544\n",
    "# 386"
   ]
  },
  {
   "cell_type": "code",
   "execution_count": 54,
   "metadata": {},
   "outputs": [
    {
     "name": "stdout",
     "output_type": "stream",
     "text": [
      "Found 3077 images belonging to 2 classes.\n",
      "Found 769 images belonging to 2 classes.\n"
     ]
    }
   ],
   "source": [
    "TRAINING_DIR = train_dir\n",
    "train_datagen = ImageDataGenerator(rescale = 1 / 255.0,\n",
    "                                   zoom_range = 0.1,\n",
    "                                   width_shift_range = 0.1,\n",
    "                                   height_shift_range = 0.1,\n",
    "                                   shear_range = 0.2,\n",
    "                                   horizontal_flip = True,\n",
    "                                   fill_mode = 'nearest')\n",
    "\n",
    "# TRAIN GENERATOR.\n",
    "train_generator = train_datagen.flow_from_directory(\n",
    "    TRAINING_DIR,\n",
    "    target_size=(224, 224),\n",
    "    batch_size=10,\n",
    "    class_mode='binary'\n",
    ")\n",
    "\n",
    "VALIDATION_DIR = test_dir\n",
    "validation_datagen = ImageDataGenerator(rescale = 1./255)\n",
    "\n",
    "# VALIDATION GENERATOR.\n",
    "validation_generator = validation_datagen.flow_from_directory(\n",
    "    VALIDATION_DIR,\n",
    "    target_size=(224,224),\n",
    "    batch_size=10,\n",
    "    class_mode='binary')"
   ]
  },
  {
   "cell_type": "code",
   "execution_count": 55,
   "metadata": {},
   "outputs": [],
   "source": [
    "model = tf.keras.models.Sequential([\n",
    "tf.keras.layers.Conv2D(16, (3, 3), activation='relu', input_shape=(150, 150, 3)),\n",
    "tf.keras.layers.MaxPooling2D(2, 2),\n",
    "tf.keras.layers.Conv2D(32, (3, 3), activation='relu'),\n",
    "tf.keras.layers.MaxPooling2D(2, 2),\n",
    "tf.keras.layers.Dropout(0.2),\n",
    "tf.keras.layers.Conv2D(64, (3, 3), activation='relu'),\n",
    "tf.keras.layers.MaxPooling2D(2, 2),\n",
    "tf.keras.layers.Flatten(),\n",
    "tf.keras.layers.Dropout(0.2),\n",
    "tf.keras.layers.Dense(512, activation='relu'),\n",
    "tf.keras.layers.Dense(1, activation='sigmoid')\n",
    "])\n",
    "\n",
    "model.compile(optimizer=RMSprop(lr=0.001), loss='binary_crossentropy', metrics=['acc'])"
   ]
  },
  {
   "cell_type": "code",
   "execution_count": 56,
   "metadata": {},
   "outputs": [],
   "source": [
    "based_model = MobileNetV2(weights = 'imagenet',\n",
    "                          include_top = False,\n",
    "                          input_shape = (224, 224, 3))\n",
    "based_model.trainable = False\n",
    "model = Sequential()\n",
    "model.add(based_model)\n",
    "model.add(tf.keras.layers.Flatten())\n",
    "model.add(tf.keras.layers.Dropout(0.2))\n",
    "model.add(tf.keras.layers.Dense(512, activation='relu'))\n",
    "model.add(tf.keras.layers.Dense(1, activation='sigmoid'))\n",
    "\n",
    "model.compile(optimizer=RMSprop(lr=0.001), loss='binary_crossentropy', metrics=['acc'])"
   ]
  },
  {
   "cell_type": "code",
   "execution_count": 52,
   "metadata": {},
   "outputs": [
    {
     "name": "stdout",
     "output_type": "stream",
     "text": [
      "Model: \"sequential_13\"\n",
      "_________________________________________________________________\n",
      "Layer (type)                 Output Shape              Param #   \n",
      "=================================================================\n",
      "mobilenetv2_1.00_224 (Model) (None, 7, 7, 1280)        2257984   \n",
      "_________________________________________________________________\n",
      "flatten_16 (Flatten)         (None, 62720)             0         \n",
      "_________________________________________________________________\n",
      "dropout_22 (Dropout)         (None, 62720)             0         \n",
      "_________________________________________________________________\n",
      "dense_26 (Dense)             (None, 512)               32113152  \n",
      "_________________________________________________________________\n",
      "dense_27 (Dense)             (None, 1)                 513       \n",
      "=================================================================\n",
      "Total params: 34,371,649\n",
      "Trainable params: 32,113,665\n",
      "Non-trainable params: 2,257,984\n",
      "_________________________________________________________________\n"
     ]
    }
   ],
   "source": [
    "model.summary()"
   ]
  },
  {
   "cell_type": "code",
   "execution_count": 57,
   "metadata": {
    "scrolled": true
   },
   "outputs": [
    {
     "name": "stdout",
     "output_type": "stream",
     "text": [
      "Epoch 1/10\n",
      "308/308 [==============================] - 97s 314ms/step - loss: 2.0944 - acc: 0.9555 - val_loss: 0.2841 - val_acc: 0.9870\n",
      "Epoch 2/10\n",
      "308/308 [==============================] - 94s 304ms/step - loss: 0.2689 - acc: 0.9886 - val_loss: 0.6084 - val_acc: 0.9766\n",
      "Epoch 3/10\n",
      "308/308 [==============================] - 94s 306ms/step - loss: 0.2784 - acc: 0.9903 - val_loss: 0.8817 - val_acc: 0.9766\n",
      "Epoch 4/10\n",
      "308/308 [==============================] - 94s 306ms/step - loss: 0.2436 - acc: 0.9909 - val_loss: 0.6731 - val_acc: 0.9779\n",
      "Epoch 5/10\n",
      "308/308 [==============================] - 92s 300ms/step - loss: 0.1190 - acc: 0.9938 - val_loss: 0.1648 - val_acc: 0.9896\n",
      "Epoch 6/10\n",
      "308/308 [==============================] - 90s 291ms/step - loss: 0.0964 - acc: 0.9948 - val_loss: 0.7058 - val_acc: 0.9675\n",
      "Epoch 7/10\n",
      "308/308 [==============================] - 90s 292ms/step - loss: 0.0444 - acc: 0.9948 - val_loss: 0.2096 - val_acc: 0.9909\n",
      "Epoch 8/10\n",
      "308/308 [==============================] - 90s 292ms/step - loss: 0.0430 - acc: 0.9974 - val_loss: 0.1901 - val_acc: 0.9922\n",
      "Epoch 9/10\n",
      "308/308 [==============================] - 90s 292ms/step - loss: 0.0243 - acc: 0.9971 - val_loss: 0.1962 - val_acc: 0.9922\n",
      "Epoch 10/10\n",
      "308/308 [==============================] - 89s 290ms/step - loss: 0.0087 - acc: 0.9990 - val_loss: 0.1809 - val_acc: 0.9883\n"
     ]
    }
   ],
   "source": [
    "history = model.fit(train_generator,\n",
    "                      epochs=10,\n",
    "                      verbose=1,\n",
    "                      validation_data=validation_generator)"
   ]
  },
  {
   "cell_type": "code",
   "execution_count": 60,
   "metadata": {},
   "outputs": [
    {
     "data": {
      "text/plain": [
       "Text(0.5, 1.0, 'Training and validation loss')"
      ]
     },
     "execution_count": 60,
     "metadata": {},
     "output_type": "execute_result"
    },
    {
     "data": {
      "image/png": "[encoded data removed]",
      "text/plain": [
       "<Figure size 432x288 with 1 Axes>"
      ]
     },
     "metadata": {
      "needs_background": "light"
     },
     "output_type": "display_data"
    },
    {
     "data": {
      "image/png": "[encoded data removed]",
      "text/plain": [
       "<Figure size 432x288 with 1 Axes>"
      ]
     },
     "metadata": {
      "needs_background": "light"
     },
     "output_type": "display_data"
    }
   ],
   "source": [
    "%matplotlib inline\n",
    "\n",
    "import matplotlib.image  as mpimg\n",
    "import matplotlib.pyplot as plt\n",
    "\n",
    "#-----------------------------------------------------------\n",
    "# Retrieve a list of list results on training and test data\n",
    "# sets for each training epoch\n",
    "#-----------------------------------------------------------\n",
    "acc=history.history['acc']\n",
    "val_acc=history.history['val_acc']\n",
    "loss=history.history['loss']\n",
    "val_loss=history.history['val_loss']\n",
    "\n",
    "epochs=range(len(acc)) # Get number of epochs\n",
    "\n",
    "#------------------------------------------------\n",
    "# Plot training and validation accuracy per epoch\n",
    "#------------------------------------------------\n",
    "plt.plot(epochs, acc, 'r', \"Training Accuracy\")\n",
    "plt.plot(epochs, val_acc, 'b', \"Validation Accuracy\")\n",
    "plt.title('Training and validation accuracy')\n",
    "plt.figure()\n",
    "\n",
    "#------------------------------------------------\n",
    "# Plot training and validation loss per epoch\n",
    "#------------------------------------------------\n",
    "plt.plot(epochs, loss, 'r', \"Training Loss\")\n",
    "plt.plot(epochs, val_loss, 'b', \"Validation Loss\")\n",
    "\n",
    "\n",
    "plt.title('Training and validation loss')\n",
    "\n",
    "# Desired output. Charts with training and validation metrics. No crash :)"
   ]
  },
  {
   "cell_type": "code",
   "execution_count": 61,
   "metadata": {},
   "outputs": [
    {
     "data": {
      "image/png": "[encoded data removed]",
      "text/plain": [
       "<Figure size 432x288 with 1 Axes>"
      ]
     },
     "metadata": {
      "needs_background": "light"
     },
     "output_type": "display_data"
    },
    {
     "data": {
      "image/png": "[encoded data removed]",
      "text/plain": [
       "<Figure size 432x288 with 1 Axes>"
      ]
     },
     "metadata": {
      "needs_background": "light"
     },
     "output_type": "display_data"
    }
   ],
   "source": [
    "%matplotlib inline\n",
    "import matplotlib.pyplot as plt\n",
    "acc = history.history['acc']\n",
    "val_acc = history.history['val_acc']\n",
    "loss = history.history['loss']\n",
    "val_loss = history.history['val_loss']\n",
    "\n",
    "epochs = range(len(acc))\n",
    "\n",
    "plt.plot(epochs, acc, 'r', label='Training accuracy')\n",
    "plt.plot(epochs, val_acc, 'b', label='Validation accuracy')\n",
    "plt.title('Training and validation accuracy')\n",
    "plt.legend()\n",
    "plt.figure()\n",
    "\n",
    "plt.plot(epochs, loss, 'r', label='Training Loss')\n",
    "plt.plot(epochs, val_loss, 'b', label='Validation Loss')\n",
    "plt.title('Training and validation loss')\n",
    "plt.legend()\n",
    "\n",
    "plt.show()"
   ]
  },
  {
   "cell_type": "code",
   "execution_count": null,
   "metadata": {},
   "outputs": [],
   "source": []
  }
 ],
 "metadata": {
  "kernelspec": {
   "display_name": "Python 3",
   "language": "python",
   "name": "python3"
  },
  "language_info": {
   "codemirror_mode": {
    "name": "ipython",
    "version": 3
   },
   "file_extension": ".py",
   "mimetype": "text/x-python",
   "name": "python",
   "nbconvert_exporter": "python",
   "pygments_lexer": "ipython3",
   "version": "3.7.6"
  }
 },
 "nbformat": 4,
 "nbformat_minor": 4
}
